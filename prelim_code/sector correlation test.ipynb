{
 "cells": [
  {
   "cell_type": "code",
   "execution_count": 19,
   "id": "74162872-35f2-4d0e-874e-1616b5ea9f2c",
   "metadata": {},
   "outputs": [
    {
     "name": "stdout",
     "output_type": "stream",
     "text": [
      "Analyzing sector: Communication Services\n",
      "Downloading data for 22 tickers...\n"
     ]
    },
    {
     "name": "stderr",
     "output_type": "stream",
     "text": [
      "[*********************100%***********************]  22 of 22 completed\n",
      "[                       0%                       ]"
     ]
    },
    {
     "name": "stdout",
     "output_type": "stream",
     "text": [
      "Analyzing sector: Consumer Discretionary\n",
      "Downloading data for 50 tickers...\n"
     ]
    },
    {
     "name": "stderr",
     "output_type": "stream",
     "text": [
      "[*********************100%***********************]  50 of 50 completed\n",
      "[****                   8%                       ]  3 of 38 completed"
     ]
    },
    {
     "name": "stdout",
     "output_type": "stream",
     "text": [
      "Analyzing sector: Consumer Staples\n",
      "Downloading data for 38 tickers...\n"
     ]
    },
    {
     "name": "stderr",
     "output_type": "stream",
     "text": [
      "[*********************100%***********************]  38 of 38 completed\n",
      "[*******               14%                       ]  3 of 22 completed"
     ]
    },
    {
     "name": "stdout",
     "output_type": "stream",
     "text": [
      "Analyzing sector: Energy\n",
      "Downloading data for 22 tickers...\n"
     ]
    },
    {
     "name": "stderr",
     "output_type": "stream",
     "text": [
      "[*********************100%***********************]  22 of 22 completed\n",
      "[                       0%                       ]"
     ]
    },
    {
     "name": "stdout",
     "output_type": "stream",
     "text": [
      "Analyzing sector: Financials\n",
      "Downloading data for 72 tickers...\n"
     ]
    },
    {
     "name": "stderr",
     "output_type": "stream",
     "text": [
      "[*********************100%***********************]  72 of 72 completed\n",
      "[**                     5%                       ]  3 of 62 completed"
     ]
    },
    {
     "name": "stdout",
     "output_type": "stream",
     "text": [
      "Analyzing sector: Health Care\n",
      "Downloading data for 62 tickers...\n"
     ]
    },
    {
     "name": "stderr",
     "output_type": "stream",
     "text": [
      "[*********************100%***********************]  62 of 62 completed\n",
      "[*                      3%                       ]  2 of 78 completed"
     ]
    },
    {
     "name": "stdout",
     "output_type": "stream",
     "text": [
      "Analyzing sector: Industrials\n",
      "Downloading data for 78 tickers...\n"
     ]
    },
    {
     "name": "stderr",
     "output_type": "stream",
     "text": [
      "[*********************100%***********************]  78 of 78 completed\n",
      "/var/folders/tc/_r1h9zgd6f9gsqfy8fnlrcv80000gn/T/ipykernel_1332/2720219097.py:51: RuntimeWarning: divide by zero encountered in log\n",
      "  log_tau = log(tau)\n",
      "[**                     4%                       ]  3 of 69 completed"
     ]
    },
    {
     "name": "stdout",
     "output_type": "stream",
     "text": [
      "Analyzing sector: Information Technology\n",
      "Downloading data for 69 tickers...\n"
     ]
    },
    {
     "name": "stderr",
     "output_type": "stream",
     "text": [
      "[*********************100%***********************]  69 of 69 completed\n",
      "[***                    7%                       ]  2 of 28 completed"
     ]
    },
    {
     "name": "stdout",
     "output_type": "stream",
     "text": [
      "Analyzing sector: Materials\n",
      "Downloading data for 28 tickers...\n"
     ]
    },
    {
     "name": "stderr",
     "output_type": "stream",
     "text": [
      "[*********************100%***********************]  28 of 28 completed\n",
      "[*****                 10%                       ]  3 of 31 completed"
     ]
    },
    {
     "name": "stdout",
     "output_type": "stream",
     "text": [
      "Analyzing sector: Real Estate\n",
      "Downloading data for 31 tickers...\n"
     ]
    },
    {
     "name": "stderr",
     "output_type": "stream",
     "text": [
      "[*********************100%***********************]  31 of 31 completed\n",
      "[*****                 10%                       ]  3 of 31 completed"
     ]
    },
    {
     "name": "stdout",
     "output_type": "stream",
     "text": [
      "Analyzing sector: Utilities\n",
      "Downloading data for 31 tickers...\n"
     ]
    },
    {
     "name": "stderr",
     "output_type": "stream",
     "text": [
      "[*********************100%***********************]  31 of 31 completed\n"
     ]
    },
    {
     "name": "stdout",
     "output_type": "stream",
     "text": [
      "\n",
      "Sector Analysis Results:\n",
      "                    Sector  Average Correlation  Hurst Exponent  Dispersion\n",
      "0   Communication Services             0.197907        0.022309    0.022572\n",
      "1   Consumer Discretionary             0.248120        0.005277    0.024633\n",
      "2         Consumer Staples             0.209593        0.006135    0.020315\n",
      "3                   Energy             0.531601        0.006003    0.016164\n",
      "4               Financials             0.337698        0.016064    0.017808\n",
      "5              Health Care             0.182197        0.009455    0.024025\n",
      "6              Industrials             0.270163             NaN    0.022886\n",
      "7   Information Technology             0.304175        0.020536    0.028185\n",
      "8                Materials             0.304050        0.012036    0.022770\n",
      "9              Real Estate             0.486539        0.013862    0.014497\n",
      "10               Utilities             0.526968        0.011807    0.014958\n"
     ]
    }
   ],
   "source": [
    "import pandas as pd\n",
    "import yfinance as yf\n",
    "from itertools import combinations\n",
    "from numpy import std, log, polyfit, isnan\n",
    "from statsmodels.tsa.stattools import adfuller\n",
    "\n",
    "def get_sector_tickers(sectors_to_include=None, sectors_to_exclude=None):\n",
    "    sp500_df = pd.read_html('https://en.wikipedia.org/wiki/List_of_S%26P_500_companies')[0]\n",
    "    sp500_df['Symbol'] = sp500_df['Symbol'].str.replace('.', '-', regex=False)\n",
    "    sp500_sectors = sp500_df[['Symbol', 'GICS Sector']]\n",
    "\n",
    "    if sectors_to_include:\n",
    "        sp500_sectors = sp500_sectors[sp500_sectors['GICS Sector'].isin(sectors_to_include)]\n",
    "    if sectors_to_exclude:\n",
    "        sp500_sectors = sp500_sectors[~sp500_sectors['GICS Sector'].isin(sectors_to_exclude)]\n",
    "\n",
    "    return sp500_sectors.groupby('GICS Sector')['Symbol'].apply(list).to_dict()\n",
    "\n",
    "def download_sector_prices(tickers, start_date, end_date):\n",
    "    print(f\"Downloading data for {len(tickers)} tickers...\")\n",
    "    return yf.download(tickers, start=start_date, end=end_date)['Adj Close']\n",
    "\n",
    "def compute_average_correlation(returns):\n",
    "    correlations = []\n",
    "    for stock1, stock2 in combinations(returns.columns, 2):\n",
    "        corr = returns[stock1].corr(returns[stock2])  \n",
    "        if not pd.isna(corr):\n",
    "            correlations.append(corr)\n",
    "    return sum(correlations) / len(correlations) if correlations else 0\n",
    "\n",
    "def hurst_exponent(ts):\n",
    "    \"\"\"\n",
    "    Computes the Hurst Exponent of a time series.\n",
    "    H < 0.5 indicates mean reversion.\n",
    "    H = 0.5 indicates a random walk.\n",
    "    H > 0.5 indicates persistence.\n",
    "    \"\"\"\n",
    "    if ts.isnull().any():\n",
    "        ts = ts.dropna()\n",
    "\n",
    "    # Rescale the time series\n",
    "    lags = range(2, 100)\n",
    "    tau = []\n",
    "    for lag in lags:\n",
    "        diff_series = ts.diff(lag).dropna()\n",
    "        if len(diff_series) > 0:\n",
    "            tau.append(std(diff_series))\n",
    "\n",
    "    if len(tau) > 1:\n",
    "        log_lags = log(lags[:len(tau)])  \n",
    "        log_tau = log(tau)\n",
    "        poly = polyfit(log_lags, log_tau, 1)\n",
    "        return abs(poly[0]) * 2  # Hurst exponent is derived as slope * 2\n",
    "    else:\n",
    "        return float('nan')  \n",
    "\n",
    "def compute_dispersion(returns):\n",
    "    spreads = []\n",
    "    for stock1, stock2 in combinations(returns.columns, 2):\n",
    "        spread = returns[stock1] - returns[stock2] \n",
    "        spreads.append(spread.std())\n",
    "    return sum(spreads) / len(spreads) if spreads else 0\n",
    "\n",
    "def analyze_sectors(start_date=\"2024-01-01\", end_date=\"2024-12-01\", sectors_to_include=None):\n",
    "    sector_tickers = get_sector_tickers(sectors_to_include)\n",
    "    results = []\n",
    "\n",
    "    for sector, tickers in sector_tickers.items():\n",
    "        print(f\"Analyzing sector: {sector}\")\n",
    "        prices = download_sector_prices(tickers, start_date, end_date)\n",
    "\n",
    "        if prices.empty:\n",
    "            print(f\"No data for sector: {sector}\")\n",
    "            continue\n",
    "\n",
    "        returns = prices.pct_change().dropna()\n",
    "\n",
    "        average_correlation = compute_average_correlation(returns)\n",
    "        hurst = hurst_exponent(returns.mean(axis=1))  \n",
    "        dispersion = compute_dispersion(returns)\n",
    "\n",
    "        results.append({\n",
    "            'Sector': sector,\n",
    "            'Average Correlation': average_correlation,\n",
    "            'Hurst Exponent': hurst,\n",
    "            'Dispersion': dispersion,\n",
    "        })\n",
    "\n",
    "    results_df = pd.DataFrame(results)\n",
    "    print(\"\\nSector Analysis Results:\")\n",
    "    print(results_df)\n",
    "    return results_df\n",
    "\n",
    "results = analyze_sectors(start_date=\"2024-01-01\", end_date=\"2024-12-01\")"
   ]
  },
  {
   "cell_type": "code",
   "execution_count": null,
   "id": "694629a7-e66d-460d-bebf-93c809fd4a69",
   "metadata": {},
   "outputs": [],
   "source": []
  }
 ],
 "metadata": {
  "kernelspec": {
   "display_name": "Python 3 (ipykernel)",
   "language": "python",
   "name": "python3"
  },
  "language_info": {
   "codemirror_mode": {
    "name": "ipython",
    "version": 3
   },
   "file_extension": ".py",
   "mimetype": "text/x-python",
   "name": "python",
   "nbconvert_exporter": "python",
   "pygments_lexer": "ipython3",
   "version": "3.12.4"
  }
 },
 "nbformat": 4,
 "nbformat_minor": 5
}
