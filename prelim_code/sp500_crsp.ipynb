{
 "cells": [
  {
   "cell_type": "markdown",
   "metadata": {},
   "source": [
    "## This code illustrates how to get S&P500 index constituents and their identifiers from CRSP and Compustat\n",
    "- Researchers used to be able to extract index membership information from Compustat's \"comp.idxcst_his\" data. Now that S&P pulled this piece of data off from WRDS platform, we have to turn to CRSP to get S&P500 Index membership data. \n",
    "- Unfortunately, there is no easy way to uncover constituents info for the other indices covered by \"comp.idxcst_his\"."
   ]
  },
  {
   "cell_type": "code",
   "execution_count": 1,
   "metadata": {},
   "outputs": [],
   "source": [
    "##########################################\n",
    "# S&P 500 Index Constituents             #\n",
    "# Qingyi (Freda) Song Drechsler          #\n",
    "# Date: October 2020                     #\n",
    "##########################################\n",
    "\n",
    "import pandas as pd\n",
    "import wrds"
   ]
  },
  {
   "cell_type": "markdown",
   "metadata": {},
   "source": [
    "### Step 1: Connect to WRDS"
   ]
  },
  {
   "cell_type": "code",
   "execution_count": 2,
   "metadata": {},
   "outputs": [
    {
     "name": "stdout",
     "output_type": "stream",
     "text": [
      "WRDS recommends setting up a .pgpass file.\n",
      "Created .pgpass file successfully.\n",
      "You can create this file yourself at any time with the create_pgpass_file() function.\n",
      "Loading library list...\n",
      "Done\n"
     ]
    }
   ],
   "source": [
    "###################\n",
    "# Connect to WRDS #\n",
    "###################\n",
    "conn=wrds.Connection()"
   ]
  },
  {
   "cell_type": "markdown",
   "metadata": {},
   "source": [
    "### Step 2: Get SP500 Index Membership from CRSP\n",
    "- I opt for the monthly frequency of the data, but one can choose to work with crsp.dsp500list if more precise date range is needed."
   ]
  },
  {
   "cell_type": "code",
   "execution_count": 22,
   "metadata": {},
   "outputs": [],
   "source": [
    "sp500 = conn.raw_sql(\"\"\"\n",
    "                        select a.*, b.date, b.ret\n",
    "                        from crsp.msp500list as a,\n",
    "                        crsp.msf as b\n",
    "                        where a.permno=b.permno\n",
    "                        and b.date >= a.start and b.date<= a.ending\n",
    "                        and b.date>='01/01/1990'\n",
    "                        order by date;\n",
    "                        \"\"\", date_cols=['start', 'ending', 'date'])"
   ]
  },
  {
   "cell_type": "code",
   "execution_count": 23,
   "metadata": {},
   "outputs": [
    {
     "data": {
      "text/html": [
       "<div>\n",
       "<style scoped>\n",
       "    .dataframe tbody tr th:only-of-type {\n",
       "        vertical-align: middle;\n",
       "    }\n",
       "\n",
       "    .dataframe tbody tr th {\n",
       "        vertical-align: top;\n",
       "    }\n",
       "\n",
       "    .dataframe thead th {\n",
       "        text-align: right;\n",
       "    }\n",
       "</style>\n",
       "<table border=\"1\" class=\"dataframe\">\n",
       "  <thead>\n",
       "    <tr style=\"text-align: right;\">\n",
       "      <th></th>\n",
       "      <th>permno</th>\n",
       "      <th>start</th>\n",
       "      <th>ending</th>\n",
       "      <th>date</th>\n",
       "      <th>ret</th>\n",
       "    </tr>\n",
       "  </thead>\n",
       "  <tbody>\n",
       "    <tr>\n",
       "      <th>0</th>\n",
       "      <td>20220</td>\n",
       "      <td>1976-01-15</td>\n",
       "      <td>2010-03-12</td>\n",
       "      <td>1990-01-31</td>\n",
       "      <td>-0.166667</td>\n",
       "    </tr>\n",
       "    <tr>\n",
       "      <th>1</th>\n",
       "      <td>19051</td>\n",
       "      <td>1979-03-01</td>\n",
       "      <td>1999-07-21</td>\n",
       "      <td>1990-01-31</td>\n",
       "      <td>-0.141243</td>\n",
       "    </tr>\n",
       "    <tr>\n",
       "      <th>2</th>\n",
       "      <td>61399</td>\n",
       "      <td>1984-03-01</td>\n",
       "      <td>2023-12-29</td>\n",
       "      <td>1990-01-31</td>\n",
       "      <td>-0.071864</td>\n",
       "    </tr>\n",
       "    <tr>\n",
       "      <th>3</th>\n",
       "      <td>47896</td>\n",
       "      <td>1976-07-01</td>\n",
       "      <td>2023-12-29</td>\n",
       "      <td>1990-01-31</td>\n",
       "      <td>-0.138075</td>\n",
       "    </tr>\n",
       "    <tr>\n",
       "      <th>4</th>\n",
       "      <td>52337</td>\n",
       "      <td>1979-02-08</td>\n",
       "      <td>2016-04-15</td>\n",
       "      <td>1990-01-31</td>\n",
       "      <td>-0.145161</td>\n",
       "    </tr>\n",
       "  </tbody>\n",
       "</table>\n",
       "</div>"
      ],
      "text/plain": [
       "   permno      start     ending       date       ret\n",
       "0   20220 1976-01-15 2010-03-12 1990-01-31 -0.166667\n",
       "1   19051 1979-03-01 1999-07-21 1990-01-31 -0.141243\n",
       "2   61399 1984-03-01 2023-12-29 1990-01-31 -0.071864\n",
       "3   47896 1976-07-01 2023-12-29 1990-01-31 -0.138075\n",
       "4   52337 1979-02-08 2016-04-15 1990-01-31 -0.145161"
      ]
     },
     "execution_count": 23,
     "metadata": {},
     "output_type": "execute_result"
    }
   ],
   "source": [
    "sp500.head()"
   ]
  },
  {
   "cell_type": "markdown",
   "metadata": {},
   "source": [
    "### Step 3: Add Other Company Identifiers from CRSP.MSENAMES\n",
    "- You don't need this step if only PERMNO is required\n",
    "- This step aims to add TICKER, SHRCD, EXCHCD and etc. "
   ]
  },
  {
   "cell_type": "code",
   "execution_count": 24,
   "metadata": {},
   "outputs": [],
   "source": [
    "mse = conn.raw_sql(\"\"\"\n",
    "    select \n",
    "        msenames.comnam, \n",
    "        msenames.ncusip, \n",
    "        msenames.namedt, \n",
    "        msenames.nameendt, \n",
    "        msenames.permno, \n",
    "        msenames.shrcd, \n",
    "        msenames.exchcd, \n",
    "        msenames.hsiccd, \n",
    "        msenames.ticker,\n",
    "        comp.company.gsector as sector\n",
    "    from crsp.msenames\n",
    "    left join crsp.ccmxpf_linktable as link\n",
    "        on msenames.permno = link.lpermno\n",
    "        and link.linktype in ('LU', 'LC')\n",
    "        and (link.linkdt <= msenames.namedt or link.linkdt is null)\n",
    "        and (msenames.nameendt <= link.linkenddt or link.linkenddt is null)\n",
    "    left join comp.company\n",
    "        on link.gvkey = comp.company.gvkey\n",
    "    \"\"\", date_cols=['namedt', 'nameendt'])\n",
    "\n",
    "# If nameendt is missing then set to today's date\n",
    "mse['nameendt'] = mse['nameendt'].fillna(pd.to_datetime('today'))"
   ]
  },
  {
   "cell_type": "code",
   "execution_count": 25,
   "metadata": {},
   "outputs": [],
   "source": [
    "sector_mapping = {\n",
    "    '10': \"Energy\",\n",
    "    '15': \"Materials\",\n",
    "    '20': \"Industrials\",\n",
    "    '25': \"Consumer Discretionary\",\n",
    "    '30': \"Consumer Staples\",\n",
    "    '35': \"Health Care\",\n",
    "    '40': \"Financials\",\n",
    "    '45': \"Information Technology\",\n",
    "    '50': \"Communication Services\",\n",
    "    '55': \"Utilities\",\n",
    "    '60': \"Real Estate\"\n",
    "}\n",
    "\n",
    "# Assuming 'mse' is the DataFrame with sector numbers\n",
    "mse['sector_name'] = mse['sector'].map(sector_mapping)\n",
    "\n",
    "# Fill missing 'nameendt' with today's date\n",
    "mse['nameendt'] = mse['nameendt'].fillna(pd.to_datetime('today'))\n"
   ]
  },
  {
   "cell_type": "code",
   "execution_count": 27,
   "metadata": {},
   "outputs": [
    {
     "data": {
      "text/html": [
       "<div>\n",
       "<style scoped>\n",
       "    .dataframe tbody tr th:only-of-type {\n",
       "        vertical-align: middle;\n",
       "    }\n",
       "\n",
       "    .dataframe tbody tr th {\n",
       "        vertical-align: top;\n",
       "    }\n",
       "\n",
       "    .dataframe thead th {\n",
       "        text-align: right;\n",
       "    }\n",
       "</style>\n",
       "<table border=\"1\" class=\"dataframe\">\n",
       "  <thead>\n",
       "    <tr style=\"text-align: right;\">\n",
       "      <th></th>\n",
       "      <th>comnam</th>\n",
       "      <th>ncusip</th>\n",
       "      <th>namedt</th>\n",
       "      <th>nameendt</th>\n",
       "      <th>permno</th>\n",
       "      <th>shrcd</th>\n",
       "      <th>exchcd</th>\n",
       "      <th>hsiccd</th>\n",
       "      <th>ticker</th>\n",
       "      <th>sector</th>\n",
       "      <th>sector_name</th>\n",
       "    </tr>\n",
       "  </thead>\n",
       "  <tbody>\n",
       "    <tr>\n",
       "      <th>38409</th>\n",
       "      <td>IRVING AIR CHUTE INC</td>\n",
       "      <td>None</td>\n",
       "      <td>1962-07-02</td>\n",
       "      <td>1968-01-01</td>\n",
       "      <td>33240</td>\n",
       "      <td>10</td>\n",
       "      <td>2</td>\n",
       "      <td>2399</td>\n",
       "      <td>IHV</td>\n",
       "      <td>None</td>\n",
       "      <td>NaN</td>\n",
       "    </tr>\n",
       "    <tr>\n",
       "      <th>17852</th>\n",
       "      <td>CADENCE BANCORP</td>\n",
       "      <td>12739A10</td>\n",
       "      <td>2017-04-13</td>\n",
       "      <td>2021-10-28</td>\n",
       "      <td>16654</td>\n",
       "      <td>11</td>\n",
       "      <td>1</td>\n",
       "      <td>6021</td>\n",
       "      <td>CADE</td>\n",
       "      <td>40</td>\n",
       "      <td>Financials</td>\n",
       "    </tr>\n",
       "    <tr>\n",
       "      <th>71361</th>\n",
       "      <td>TRI BASIN RESOURCES LTD</td>\n",
       "      <td>89590210</td>\n",
       "      <td>1985-11-05</td>\n",
       "      <td>1986-07-16</td>\n",
       "      <td>78377</td>\n",
       "      <td>12</td>\n",
       "      <td>0</td>\n",
       "      <td>6790</td>\n",
       "      <td>None</td>\n",
       "      <td>None</td>\n",
       "      <td>NaN</td>\n",
       "    </tr>\n",
       "    <tr>\n",
       "      <th>19697</th>\n",
       "      <td>E T F SERIES SOLUTIONS</td>\n",
       "      <td>26922A48</td>\n",
       "      <td>2020-02-25</td>\n",
       "      <td>2020-06-25</td>\n",
       "      <td>17410</td>\n",
       "      <td>73</td>\n",
       "      <td>5</td>\n",
       "      <td>6726</td>\n",
       "      <td>MSUS</td>\n",
       "      <td>None</td>\n",
       "      <td>NaN</td>\n",
       "    </tr>\n",
       "    <tr>\n",
       "      <th>107328</th>\n",
       "      <td>PROGRESS FINANCIAL CORP</td>\n",
       "      <td>74326610</td>\n",
       "      <td>1986-07-18</td>\n",
       "      <td>1986-12-29</td>\n",
       "      <td>91257</td>\n",
       "      <td>11</td>\n",
       "      <td>3</td>\n",
       "      <td>6030</td>\n",
       "      <td>PBNK</td>\n",
       "      <td>40</td>\n",
       "      <td>Financials</td>\n",
       "    </tr>\n",
       "  </tbody>\n",
       "</table>\n",
       "</div>"
      ],
      "text/plain": [
       "                         comnam    ncusip     namedt   nameendt  permno  \\\n",
       "38409      IRVING AIR CHUTE INC      None 1962-07-02 1968-01-01   33240   \n",
       "17852           CADENCE BANCORP  12739A10 2017-04-13 2021-10-28   16654   \n",
       "71361   TRI BASIN RESOURCES LTD  89590210 1985-11-05 1986-07-16   78377   \n",
       "19697    E T F SERIES SOLUTIONS  26922A48 2020-02-25 2020-06-25   17410   \n",
       "107328  PROGRESS FINANCIAL CORP  74326610 1986-07-18 1986-12-29   91257   \n",
       "\n",
       "        shrcd  exchcd  hsiccd ticker sector sector_name  \n",
       "38409      10       2    2399    IHV   None         NaN  \n",
       "17852      11       1    6021   CADE     40  Financials  \n",
       "71361      12       0    6790   None   None         NaN  \n",
       "19697      73       5    6726   MSUS   None         NaN  \n",
       "107328     11       3    6030   PBNK     40  Financials  "
      ]
     },
     "execution_count": 27,
     "metadata": {},
     "output_type": "execute_result"
    }
   ],
   "source": [
    "mse.sample(5)"
   ]
  },
  {
   "cell_type": "code",
   "execution_count": 30,
   "metadata": {},
   "outputs": [],
   "source": [
    "# Merge with SP500 data\n",
    "sp500_full = pd.merge(sp500, mse, how = 'left', on = 'permno')\n",
    "\n",
    "# Impose the date range restrictions\n",
    "sp500_full = sp500_full.loc[(sp500_full.date>=sp500_full.namedt) \\\n",
    "                            & (sp500_full.date<=sp500_full.nameendt)]\n",
    "sp500_full.to_csv('data/sp500_constituents.csv', index=False)"
   ]
  },
  {
   "cell_type": "code",
   "execution_count": null,
   "metadata": {},
   "outputs": [],
   "source": []
  },
  {
   "cell_type": "code",
   "execution_count": 36,
   "metadata": {},
   "outputs": [
    {
     "name": "stdout",
     "output_type": "stream",
     "text": [
      "Loading library list...\n",
      "Done\n"
     ]
    }
   ],
   "source": [
    "import pandas as pd\n",
    "from wrds import Connection\n",
    "\n",
    "# Establish a connection to WRDS\n",
    "conn = Connection(wrds_username='nicklewis16')\n",
    "\n",
    "# SQL query to retrieve unique stock data with sectors from CRSP/Compustat Merged Database\n",
    "query = \"\"\"\n",
    "    SELECT DISTINCT\n",
    "        a.permno,\n",
    "        b.gvkey,\n",
    "        c.gsector,\n",
    "        c.gind,\n",
    "        c.gsubind,\n",
    "        a.ticker,\n",
    "        a.comnam\n",
    "    FROM \n",
    "        crsp.msenames AS a\n",
    "    JOIN \n",
    "        crsp.ccmxpf_linktable AS b\n",
    "        ON a.permno = b.lpermno\n",
    "    AND \n",
    "        b.linktype IN ('LU', 'LC')\n",
    "    AND \n",
    "        (b.linkdt <= a.namedt OR b.linkdt IS NULL)\n",
    "    AND \n",
    "        (a.nameendt <= b.linkenddt OR b.linkenddt IS NULL)\n",
    "    JOIN \n",
    "        comp.company AS c\n",
    "        ON b.gvkey = c.gvkey\n",
    "    WHERE \n",
    "        a.namedt >= '1990-01-01'\n",
    "    ORDER BY \n",
    "        a.permno;\n",
    "    \"\"\"\n",
    "\n",
    "# Execute the SQL query and fetch data into a DataFrame\n",
    "data = conn.raw_sql(query, date_cols=['namedt', 'nameendt'])\n",
    "\n",
    "# Close the connection\n",
    "conn.close()"
   ]
  },
  {
   "cell_type": "code",
   "execution_count": 43,
   "metadata": {},
   "outputs": [],
   "source": [
    "sector_mapping = {\n",
    "    '10': \"Energy\",\n",
    "    '15': \"Materials\",\n",
    "    '20': \"Industrials\",\n",
    "    '25': \"Consumer Discretionary\",\n",
    "    '30': \"Consumer Staples\",\n",
    "    '35': \"Health Care\",\n",
    "    '40': \"Financials\",\n",
    "    '45': \"Information Technology\",\n",
    "    '50': \"Communication Services\",\n",
    "    '55': \"Utilities\",\n",
    "    '60': \"Real Estate\"\n",
    "}\n",
    "\n",
    "# Assuming 'mse' is the DataFrame with sector numbers\n",
    "data['sector'] = data['gsector'].map(sector_mapping)\n",
    "\n",
    "data.drop_duplicates(subset=['permno'], inplace=True, keep='first')\n",
    "data.to_csv('data/unique_combination_crsp_tickers.csv', index=False)"
   ]
  },
  {
   "cell_type": "code",
   "execution_count": null,
   "metadata": {},
   "outputs": [],
   "source": []
  }
 ],
 "metadata": {
  "kernelspec": {
   "display_name": "finm",
   "language": "python",
   "name": "python3"
  },
  "language_info": {
   "codemirror_mode": {
    "name": "ipython",
    "version": 3
   },
   "file_extension": ".py",
   "mimetype": "text/x-python",
   "name": "python",
   "nbconvert_exporter": "python",
   "pygments_lexer": "ipython3",
   "version": "3.12.1"
  }
 },
 "nbformat": 4,
 "nbformat_minor": 4
}
